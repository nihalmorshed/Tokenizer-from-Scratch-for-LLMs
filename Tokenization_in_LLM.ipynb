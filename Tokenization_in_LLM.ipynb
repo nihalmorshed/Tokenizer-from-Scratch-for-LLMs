{
  "nbformat": 4,
  "nbformat_minor": 0,
  "metadata": {
    "colab": {
      "provenance": []
    },
    "kernelspec": {
      "name": "python3",
      "display_name": "Python 3"
    },
    "language_info": {
      "name": "python"
    }
  },
  "cells": [
    {
      "cell_type": "markdown",
      "source": [
        "# Download the txt file"
      ],
      "metadata": {
        "id": "9OCPEL8giqZb"
      }
    },
    {
      "cell_type": "code",
      "execution_count": 1,
      "metadata": {
        "colab": {
          "base_uri": "https://localhost:8080/"
        },
        "id": "eKNIi-bugF2g",
        "outputId": "8719c62b-e46f-474d-d8b2-afc03d5dadec"
      },
      "outputs": [
        {
          "output_type": "execute_result",
          "data": {
            "text/plain": [
              "('the-verdict.txt', <http.client.HTTPMessage at 0x7f827e9934c0>)"
            ]
          },
          "metadata": {},
          "execution_count": 1
        }
      ],
      "source": [
        "import urllib.request\n",
        "url = (\"https://raw.githubusercontent.com/rasbt/\"\n",
        "           \"LLMs-from-scratch/main/ch02/01_main-chapter-code/\"\n",
        "           \"the-verdict.txt\")\n",
        "file_path = \"the-verdict.txt\"\n",
        "urllib.request.urlretrieve(url, file_path)"
      ]
    },
    {
      "cell_type": "markdown",
      "source": [
        "# Read the txt file"
      ],
      "metadata": {
        "id": "aNKFLAdFim0W"
      }
    },
    {
      "cell_type": "code",
      "source": [
        "with open(file_path,'r',encoding='utf-8') as f:\n",
        "    raw_text = f.read()\n",
        "print(\"Total Number of characters:\", len(raw_text))\n",
        "print(raw_text[:100])"
      ],
      "metadata": {
        "colab": {
          "base_uri": "https://localhost:8080/"
        },
        "id": "QJGUfRLrhUau",
        "outputId": "8427b5d7-6f86-428c-f3ae-fd6541932282"
      },
      "execution_count": 2,
      "outputs": [
        {
          "output_type": "stream",
          "name": "stdout",
          "text": [
            "Total Number of characters: 20479\n",
            "I HAD always thought Jack Gisburn rather a cheap genius--though a good fellow enough--so it was no g\n"
          ]
        }
      ]
    },
    {
      "cell_type": "code",
      "source": [
        "import re"
      ],
      "metadata": {
        "id": "pBz4BsewivIi"
      },
      "execution_count": 3,
      "outputs": []
    },
    {
      "cell_type": "markdown",
      "source": [
        "# Split up based on whitespaces"
      ],
      "metadata": {
        "id": "JijSSJD0jlEZ"
      }
    },
    {
      "cell_type": "code",
      "source": [
        "text = \"Hello World! This is a test.\"\n",
        "result = re.split(r'(\\s)',text)\n",
        "print(result)"
      ],
      "metadata": {
        "colab": {
          "base_uri": "https://localhost:8080/"
        },
        "id": "WvfWCcRsi6Rd",
        "outputId": "9b86a90c-685a-43d2-af67-934fc6a098b9"
      },
      "execution_count": 4,
      "outputs": [
        {
          "output_type": "stream",
          "name": "stdout",
          "text": [
            "['Hello', ' ', 'World!', ' ', 'This', ' ', 'is', ' ', 'a', ' ', 'test.']\n"
          ]
        }
      ]
    },
    {
      "cell_type": "markdown",
      "source": [
        "#Split up the text on period(.), comma(,),  exclamation(!), and Whitspace."
      ],
      "metadata": {
        "id": "fig-Kjw_j6Rv"
      }
    },
    {
      "cell_type": "code",
      "source": [
        "result = re.split(r'([!,.]|\\s)',text)\n",
        "print(result)"
      ],
      "metadata": {
        "colab": {
          "base_uri": "https://localhost:8080/"
        },
        "id": "XQZindF0jqDy",
        "outputId": "f8c7f847-5c80-4ce2-be5f-0e062ccc3b77"
      },
      "execution_count": 5,
      "outputs": [
        {
          "output_type": "stream",
          "name": "stdout",
          "text": [
            "['Hello', ' ', 'World', '!', '', ' ', 'This', ' ', 'is', ' ', 'a', ' ', 'test', '.', '']\n"
          ]
        }
      ]
    },
    {
      "cell_type": "markdown",
      "source": [
        "<u>**.strip()** </u> -> removes any extra whitespace (trailing or leading) from any string.\n"
      ],
      "metadata": {
        "id": "7F1fkkdLkr-t"
      }
    },
    {
      "cell_type": "code",
      "source": [
        "word = \" Hello World! \"\n",
        "print(\"Length of word before striping off the Whitspace:\",len(word))\n",
        "print(word)\n",
        "print(\"Length of word after striping off the Whitspace:\", len(word.strip()))\n",
        "print (word.strip())"
      ],
      "metadata": {
        "colab": {
          "base_uri": "https://localhost:8080/"
        },
        "id": "Hi2U7Y8alCAE",
        "outputId": "ef68fd69-999e-44dd-8bb7-7ddca0431de9"
      },
      "execution_count": 6,
      "outputs": [
        {
          "output_type": "stream",
          "name": "stdout",
          "text": [
            "Length of word before striping off the Whitspace: 14\n",
            " Hello World! \n",
            "Length of word after striping off the Whitspace: 12\n",
            "Hello World!\n"
          ]
        }
      ]
    },
    {
      "cell_type": "markdown",
      "source": [
        "# Remove Redundant Whitespace"
      ],
      "metadata": {
        "id": "_UXZM1oakSI_"
      }
    },
    {
      "cell_type": "code",
      "source": [
        "result = re.split(r'([!.,]|\\s)',text)\n",
        "res = [token for token in result if token.strip()]\n",
        "print(res)"
      ],
      "metadata": {
        "colab": {
          "base_uri": "https://localhost:8080/"
        },
        "id": "u4e_y1Qqj2V3",
        "outputId": "c025942d-3166-4cb4-9654-94527b3dc8fa"
      },
      "execution_count": 7,
      "outputs": [
        {
          "output_type": "stream",
          "name": "stdout",
          "text": [
            "['Hello', 'World', '!', 'This', 'is', 'a', 'test', '.']\n"
          ]
        }
      ]
    },
    {
      "cell_type": "markdown",
      "source": [
        "# Try it on the \"The Verdict.txt\" file"
      ],
      "metadata": {
        "id": "fwX4eLn_mikl"
      }
    },
    {
      "cell_type": "code",
      "source": [
        "preprocessed_text = re.split(r'([!.,:;_?\"\\'()]|--|\\s)',raw_text)\n",
        "preprocessed_text = [token for token in preprocessed_text if token.strip()]\n",
        "print(preprocessed_text[:30])\n",
        "print(len(preprocessed_text))"
      ],
      "metadata": {
        "colab": {
          "base_uri": "https://localhost:8080/"
        },
        "id": "bvnSNyXclkH8",
        "outputId": "de106c96-7390-472a-916f-f10d21911248"
      },
      "execution_count": 8,
      "outputs": [
        {
          "output_type": "stream",
          "name": "stdout",
          "text": [
            "['I', 'HAD', 'always', 'thought', 'Jack', 'Gisburn', 'rather', 'a', 'cheap', 'genius', '--', 'though', 'a', 'good', 'fellow', 'enough', '--', 'so', 'it', 'was', 'no', 'great', 'surprise', 'to', 'me', 'to', 'hear', 'that', ',', 'in']\n",
            "4690\n"
          ]
        }
      ]
    },
    {
      "cell_type": "markdown",
      "source": [
        "# Extract Unique tokens using set()"
      ],
      "metadata": {
        "id": "5FcKYn7zo1U5"
      }
    },
    {
      "cell_type": "code",
      "source": [
        "unique_tokens = set(preprocessed_text)\n",
        "print(\"Number of Unique Tokens:\", len(unique_tokens))"
      ],
      "metadata": {
        "colab": {
          "base_uri": "https://localhost:8080/"
        },
        "id": "usc0Yeq8nlBv",
        "outputId": "6bcb0bcd-ee8b-4f3e-d965-cb21d3df6fc9"
      },
      "execution_count": 9,
      "outputs": [
        {
          "output_type": "stream",
          "name": "stdout",
          "text": [
            "Number of Unique Tokens: 1130\n"
          ]
        }
      ]
    },
    {
      "cell_type": "markdown",
      "source": [
        "# sort the list of tokens lexicographically"
      ],
      "metadata": {
        "id": "_myzc4i9pGys"
      }
    },
    {
      "cell_type": "code",
      "source": [
        "all_tokens = sorted(unique_tokens)\n",
        "print(all_tokens[:22])"
      ],
      "metadata": {
        "colab": {
          "base_uri": "https://localhost:8080/"
        },
        "id": "_68HwGe2pCGV",
        "outputId": "951b79ea-580c-44fe-866c-65308f2b45e4"
      },
      "execution_count": 10,
      "outputs": [
        {
          "output_type": "stream",
          "name": "stdout",
          "text": [
            "['!', '\"', \"'\", '(', ')', ',', '--', '.', ':', ';', '?', 'A', 'Ah', 'Among', 'And', 'Are', 'Arrt', 'As', 'At', 'Be', 'Begin', 'Burlington']\n"
          ]
        }
      ]
    },
    {
      "cell_type": "code",
      "source": [
        "vocab = { tok: idx for idx,tok in enumerate(all_tokens)}\n",
        "for tok,idx in vocab.items():\n",
        "    print(tok,idx)\n",
        "    if idx == 21:\n",
        "        break"
      ],
      "metadata": {
        "colab": {
          "base_uri": "https://localhost:8080/"
        },
        "id": "K6RWoVevpUX7",
        "outputId": "03a817f6-39f5-4b2d-e011-aa12b6d6a770"
      },
      "execution_count": 11,
      "outputs": [
        {
          "output_type": "stream",
          "name": "stdout",
          "text": [
            "! 0\n",
            "\" 1\n",
            "' 2\n",
            "( 3\n",
            ") 4\n",
            ", 5\n",
            "-- 6\n",
            ". 7\n",
            ": 8\n",
            "; 9\n",
            "? 10\n",
            "A 11\n",
            "Ah 12\n",
            "Among 13\n",
            "And 14\n",
            "Are 15\n",
            "Arrt 16\n",
            "As 17\n",
            "At 18\n",
            "Be 19\n",
            "Begin 20\n",
            "Burlington 21\n"
          ]
        }
      ]
    },
    {
      "cell_type": "markdown",
      "source": [
        "# Creating Tokenizer class"
      ],
      "metadata": {
        "id": "jFX12fp15M9s"
      }
    },
    {
      "cell_type": "code",
      "source": [
        "class SimpleTokenizerV1:\n",
        "  def __init__(self,vocab):\n",
        "    self.word_to_index = vocab\n",
        "    self.index_to_word = {i:word for word,i in vocab.items()}\n",
        "  def encode(self,text):  # returns integer ids from the mapping (word to id) for a given given text within the whole story.\n",
        "    text = re.split(r'([,.?!_()\";:\\']|--|\\s)',text)\n",
        "    text = [word.strip() for word in text if word.strip()]\n",
        "    ids = [self.word_to_index[word] for word in text]\n",
        "    return ids\n",
        "  def decode(self, ids):  # return the converted string from the ids\n",
        "    str1 = ' '.join([self.index_to_word[id] for id in ids])\n",
        "    str1 = re.sub(r'\\s+([,.?!\"()\\'])', r'\\1',str1) # Replace spaces before the specified punctuations with the punctuation mark(, or . or ; or : or \" or ? or ! or ')\n",
        "    return str1\n"
      ],
      "metadata": {
        "id": "CZOogRQn-0eX"
      },
      "execution_count": 12,
      "outputs": []
    },
    {
      "cell_type": "code",
      "source": [
        "tokenizer = SimpleTokenizerV1(vocab)\n",
        "text = \"It's the last he painted, you know, Mrs. Gisburn said with pardonable pride.\"\n",
        "ids = tokenizer.encode(text)\n",
        "print(ids)\n",
        "print(tokenizer.decode(ids))\n"
      ],
      "metadata": {
        "colab": {
          "base_uri": "https://localhost:8080/"
        },
        "id": "g_jTlm-qZ4vG",
        "outputId": "270185b0-b280-4b2f-d249-6addbdcf1fdc"
      },
      "execution_count": 13,
      "outputs": [
        {
          "output_type": "stream",
          "name": "stdout",
          "text": [
            "[56, 2, 850, 988, 602, 533, 746, 5, 1126, 596, 5, 67, 7, 38, 851, 1108, 754, 793, 7]\n",
            "It' s the last he painted, you know, Mrs. Gisburn said with pardonable pride.\n"
          ]
        }
      ]
    },
    {
      "cell_type": "markdown",
      "source": [
        "# Adding special context tokens for detecting Unknown Words for the vocabulary and indicating the separation between different documents"
      ],
      "metadata": {
        "id": "aKVrbEgMFPcW"
      }
    },
    {
      "cell_type": "code",
      "source": [
        "all_tokens.extend([\"<|endoftext|>\", \"<|unk|>\"])\n",
        "\n",
        "vocab = {token:integer for integer,token in enumerate(all_tokens)}"
      ],
      "metadata": {
        "id": "5D4TBcJzEEfr"
      },
      "execution_count": 16,
      "outputs": []
    },
    {
      "cell_type": "code",
      "source": [
        "len(vocab.items())\n"
      ],
      "metadata": {
        "colab": {
          "base_uri": "https://localhost:8080/"
        },
        "id": "4l8ZOaMOEJyS",
        "outputId": "c19d3b4c-1f86-4a83-96e3-5184d60873f5"
      },
      "execution_count": 17,
      "outputs": [
        {
          "output_type": "execute_result",
          "data": {
            "text/plain": [
              "1132"
            ]
          },
          "metadata": {},
          "execution_count": 17
        }
      ]
    },
    {
      "cell_type": "code",
      "source": [
        "class SimpleTokenizerV2:\n",
        "    def __init__(self, vocab):\n",
        "        self.str_to_int = vocab\n",
        "        self.int_to_str = { i:s for s,i in vocab.items()}\n",
        "\n",
        "    def encode(self, text):\n",
        "        preprocessed = re.split(r'([,.:;?_!\"()\\']|--|\\s)', text)\n",
        "        preprocessed = [item.strip() for item in preprocessed if item.strip()]\n",
        "        preprocessed = [\n",
        "            item if item in self.str_to_int\n",
        "            else \"<|unk|>\" for item in preprocessed\n",
        "        ]\n",
        "\n",
        "        ids = [self.str_to_int[s] for s in preprocessed]\n",
        "        return ids\n",
        "\n",
        "    def decode(self, ids):\n",
        "        text = \" \".join([self.int_to_str[i] for i in ids])\n",
        "        text = re.sub(r'\\s+([,.:;?!\"()\\'])', r'\\1', text)\n",
        "        return text"
      ],
      "metadata": {
        "id": "gAcyDbxUEizu"
      },
      "execution_count": 18,
      "outputs": []
    },
    {
      "cell_type": "code",
      "source": [
        "tokenizer = SimpleTokenizerV2(vocab)\n",
        "\n",
        "text1 = \"Hello, do you like tea?\"\n",
        "text2 = \"In the sunlit terraces of the palace.\"\n",
        "\n",
        "text = \" <|endoftext|> \".join((text1, text2))\n",
        "\n",
        "print(text)"
      ],
      "metadata": {
        "colab": {
          "base_uri": "https://localhost:8080/"
        },
        "id": "49ZzjaPvEt3T",
        "outputId": "d3a3db2b-9bc8-4a2e-f920-026e3bf257e4"
      },
      "execution_count": 19,
      "outputs": [
        {
          "output_type": "stream",
          "name": "stdout",
          "text": [
            "Hello, do you like tea? <|endoftext|> In the sunlit terraces of the palace.\n"
          ]
        }
      ]
    },
    {
      "cell_type": "code",
      "source": [
        "ids = tokenizer.encode(text)\n",
        "print(ids)"
      ],
      "metadata": {
        "colab": {
          "base_uri": "https://localhost:8080/"
        },
        "id": "yuFeXgavEy__",
        "outputId": "a47c1fe5-3f74-497f-ed8b-a6aacf4e90b4"
      },
      "execution_count": 23,
      "outputs": [
        {
          "output_type": "stream",
          "name": "stdout",
          "text": [
            "[1131, 5, 355, 1126, 628, 975, 10, 1130, 55, 988, 956, 984, 722, 988, 1131, 7]\n"
          ]
        }
      ]
    },
    {
      "cell_type": "code",
      "source": [
        "tokenizer.decode(ids)"
      ],
      "metadata": {
        "colab": {
          "base_uri": "https://localhost:8080/",
          "height": 36
        },
        "id": "t9AdVWHRE0YY",
        "outputId": "f7b080bd-2e68-4905-d404-8e0b99d616ed"
      },
      "execution_count": 24,
      "outputs": [
        {
          "output_type": "execute_result",
          "data": {
            "text/plain": [
              "'<|unk|>, do you like tea? <|endoftext|> In the sunlit terraces of the <|unk|>.'"
            ],
            "application/vnd.google.colaboratory.intrinsic+json": {
              "type": "string"
            }
          },
          "metadata": {},
          "execution_count": 24
        }
      ]
    }
  ]
}